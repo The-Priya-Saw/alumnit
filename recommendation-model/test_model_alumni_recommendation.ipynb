{
  "cells": [
    {
      "cell_type": "code",
      "execution_count": 1,
      "metadata": {
        "id": "osOi6cGTfJ7v"
      },
      "outputs": [],
      "source": [
        "import pickle"
      ]
    },
    {
      "cell_type": "code",
      "execution_count": 2,
      "metadata": {
        "id": "BV7iGWm5fyo6"
      },
      "outputs": [],
      "source": [
        "class AlumniRecommendationModel:\n",
        "  def __init__(self, df_pkl, dataDict_pkl ,similarity_pkl):\n",
        "    self.df = pickle.load(df_pkl)\n",
        "    self.similarity = pickle.load(similarity_pkl)\n",
        "    self.dataDict = pickle.load(dataDict_pkl)\n",
        "\n",
        "  def recommendProfile(self, profileIndex):\n",
        "    similarProfiles = list(enumerate(self.similarity[profileIndex]))\n",
        "    sortedSimilarProfiles = sorted(similarProfiles,reverse=True,key = lambda x:x[1])\n",
        "    top5SimilarProfiles = sortedSimilarProfiles[0:6]\n",
        "    top5SimilarProfiles\n",
        "    recommendation = []\n",
        "    for i in top5SimilarProfiles:\n",
        "      recommendation.append(self.dataDict[i[0]])\n",
        "      # print()\n",
        "      # for key in self.dataDict[i[0]]:\n",
        "      #   print(f\"{key}: {self.dataDict[i[0]][key]}\")\n",
        "      # print(\"-\"*100)\n",
        "    return recommendation\n",
        "\n",
        "  def recommendProfileById(self,id):\n",
        "    index = self.df[self.df[\"_id\"]==\"63f1e38f0666421fed18d222\"].index[0]\n",
        "    return self.recommendProfile(index)"
      ]
    },
    {
      "cell_type": "code",
      "execution_count": 3,
      "metadata": {
        "id": "TFHdUUHrf4IS"
      },
      "outputs": [],
      "source": [
        "alumniRecommendationModel = AlumniRecommendationModel(open(\"df.pkl\",\"rb\"),open(\"dataDict.pkl\",\"rb\"),open(\"similarity.pkl\",\"rb\"))"
      ]
    },
    {
      "cell_type": "code",
      "execution_count": 4,
      "metadata": {
        "colab": {
          "base_uri": "https://localhost:8080/"
        },
        "id": "1nzxr3dFf7Oy",
        "outputId": "361cc8cd-2574-4a31-9cf3-a13a0a5ad287"
      },
      "outputs": [
        {
          "data": {
            "text/plain": [
              "[{'_id': '63f1e38f0666421fed18d222',\n",
              "  'certifications': [],\n",
              "  'education': 'Information Technology',\n",
              "  'experiences': [],\n",
              "  'fullName': 'Siddhi Chavan',\n",
              "  'skills': ['Hindi',\n",
              "   'Cascading Style Sheets (CSS)',\n",
              "   'HTML5',\n",
              "   'Problem Solving',\n",
              "   'Java',\n",
              "   'Python (Programming Language)',\n",
              "   'Microsoft Excel',\n",
              "   'English'],\n",
              "  'title': 'Student at Bharti Vidyapeeth college of engineering',\n",
              "  'url': 'https://www.linkedin.com/in/siddhi-chavan-99085b18a'},\n",
              " {'_id': '63f1fbc8bef0afbb69a345e9',\n",
              "  'certifications': ['Salesforce Certified Platform Developer I'],\n",
              "  'education': 'Information Technology',\n",
              "  'experiences': ['Tata Consultancy Services · Full-time',\n",
              "   'Assistant System Engineer'],\n",
              "  'fullName': 'Durvankur Kadam',\n",
              "  'skills': ['Python (Programming Language)',\n",
              "   'HTML',\n",
              "   'Cascading Style Sheets (CSS)',\n",
              "   'HTML5',\n",
              "   'Bootstrap',\n",
              "   'Django',\n",
              "   'React.js',\n",
              "   'JavaScript',\n",
              "   'Java',\n",
              "   'C (Programming Language)',\n",
              "   'Problem Solving',\n",
              "   'Communication',\n",
              "   'Leadership',\n",
              "   'English',\n",
              "   'Salesforce.com Administration'],\n",
              "  'title': 'Assistant System Engineer | BE(IT) Mumbai University',\n",
              "  'url': 'https://www.linkedin.com/in/durvankur-kadam-0222571aa'},\n",
              " {'_id': '63f264a61460f9902e70ecac',\n",
              "  'certifications': [],\n",
              "  'education': 'Information Technology',\n",
              "  'experiences': [],\n",
              "  'fullName': 'Neha Vilas Chogale',\n",
              "  'skills': ['Python (Programming Language)',\n",
              "   'JavaScript',\n",
              "   'React.js',\n",
              "   'Cascading Style Sheets (CSS)',\n",
              "   'HTML5'],\n",
              "  'title': 'Student at Bharti Vidyapeeth College of Engineering, Navi Mumbai',\n",
              "  'url': 'https://www.linkedin.com/in/nehachogale'},\n",
              " {'_id': '63f2141d4d27ad4a7393f14f',\n",
              "  'certifications': ['Gesture Controlled Robot'],\n",
              "  'education': 'Information Technology',\n",
              "  'experiences': ['ASCENT HEALTH AND WELLNESS SOLUTIONS PRIVATE LIMITED(PharmEasy) · Internship',\n",
              "   'RPA Developer'],\n",
              "  'fullName': 'Chinmayee Sawant',\n",
              "  'skills': ['Python (Programming Language)',\n",
              "   'Java',\n",
              "   'HTML5',\n",
              "   'C (Programming Language)',\n",
              "   'Cascading Style Sheets (CSS)',\n",
              "   'Bootstrap',\n",
              "   'SQL',\n",
              "   'c++'],\n",
              "  'title': 'Python Developer | Web Developer | Student at Mumbai University',\n",
              "  'url': 'https://www.linkedin.com/in/chinmayee-sawant'},\n",
              " {'_id': '63f226ef8d77e9e457495c30',\n",
              "  'certifications': [],\n",
              "  'education': 'Instrumentation',\n",
              "  'experiences': [],\n",
              "  'fullName': 'SAYALI JUNGHARE',\n",
              "  'skills': ['Spring Boot',\n",
              "   'React.js',\n",
              "   'Programming Languages',\n",
              "   'Programming',\n",
              "   'HTML5',\n",
              "   'Java',\n",
              "   'Problem Solving',\n",
              "   'HTML',\n",
              "   'Cascading Style Sheets (CSS)',\n",
              "   'JavaScript',\n",
              "   'Python (Programming Language)'],\n",
              "  'title': 'Student at Bharti College of Engineering and Technology',\n",
              "  'url': 'https://www.linkedin.com/in/sayali-junghare411'},\n",
              " {'_id': '63f229188d77e9e457495cb4',\n",
              "  'certifications': [],\n",
              "  'education': 'Information Technology',\n",
              "  'experiences': ['-', 'Information Technology Student'],\n",
              "  'fullName': 'Aman Chouhan',\n",
              "  'skills': ['Python (Programming Language)',\n",
              "   'C++',\n",
              "   'Java',\n",
              "   'Engineering',\n",
              "   'Analytical Skills',\n",
              "   'Microsoft Excel',\n",
              "   'Leadership',\n",
              "   'Problem Solving'],\n",
              "  'title': 'Java || Web Designer || Kali Linux',\n",
              "  'url': 'https://www.linkedin.com/in/aman-chouhan-2a913020b'}]"
            ]
          },
          "execution_count": 4,
          "metadata": {},
          "output_type": "execute_result"
        }
      ],
      "source": [
        "alumniRecommendationModel.recommendProfileById(\"63f1e38f0666421fed18d222\")"
      ]
    },
    {
      "cell_type": "code",
      "execution_count": null,
      "metadata": {
        "id": "U9mUNAgTf9Uy"
      },
      "outputs": [],
      "source": []
    }
  ],
  "metadata": {
    "colab": {
      "authorship_tag": "ABX9TyNb5OaweaOl9c3v4VCuj4nQ",
      "provenance": []
    },
    "kernelspec": {
      "display_name": "Python 3",
      "language": "python",
      "name": "python3"
    },
    "language_info": {
      "codemirror_mode": {
        "name": "ipython",
        "version": 3
      },
      "file_extension": ".py",
      "mimetype": "text/x-python",
      "name": "python",
      "nbconvert_exporter": "python",
      "pygments_lexer": "ipython3",
      "version": "3.10.8 (main, Nov  1 2022, 14:18:21) [GCC 12.2.0]"
    },
    "vscode": {
      "interpreter": {
        "hash": "e7370f93d1d0cde622a1f8e1c04877d8463912d04d973331ad4851f04de6915a"
      }
    }
  },
  "nbformat": 4,
  "nbformat_minor": 0
}
