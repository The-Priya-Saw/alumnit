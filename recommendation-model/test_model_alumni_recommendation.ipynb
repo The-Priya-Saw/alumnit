{
  "cells": [
    {
      "cell_type": "code",
      "execution_count": 1,
      "metadata": {
        "id": "osOi6cGTfJ7v"
      },
      "outputs": [],
      "source": [
        "import pickle"
      ]
    },
    {
      "cell_type": "code",
      "execution_count": 2,
      "metadata": {
        "id": "BV7iGWm5fyo6"
      },
      "outputs": [],
      "source": [
        "class AlumniRecommendationModel:\n",
        "  def __init__(self, df_pkl, dataDict_pkl ,similarity_pkl):\n",
        "    self.df = pickle.load(df_pkl)\n",
        "    self.similarity = pickle.load(similarity_pkl)\n",
        "    self.dataDict = pickle.load(dataDict_pkl)\n",
        "\n",
        "  def recommendProfile(self, profileIndex):\n",
        "    similarProfiles = list(enumerate(self.similarity[profileIndex]))\n",
        "    sortedSimilarProfiles = sorted(similarProfiles,reverse=True,key = lambda x:x[1])\n",
        "    top5SimilarProfiles = sortedSimilarProfiles[0:6]\n",
        "    top5SimilarProfiles\n",
        "    recommendation = []\n",
        "    for i in top5SimilarProfiles:\n",
        "      recommendation.append(self.dataDict[i[0]])\n",
        "      # print()\n",
        "      # for key in self.dataDict[i[0]]:\n",
        "      #   print(f\"{key}: {self.dataDict[i[0]][key]}\")\n",
        "      # print(\"-\"*100)\n",
        "    return recommendation\n",
        "\n",
        "  def recommendProfileById(self,id):\n",
        "    index = self.df[self.df[\"_id\"]==\"63f1e38f0666421fed18d222\"].index[0]\n",
        "    return self.recommendProfile(index)"
      ]
    },
    {
      "cell_type": "code",
      "execution_count": 3,
      "metadata": {
        "id": "TFHdUUHrf4IS"
      },
      "outputs": [],
      "source": [
        "alumniRecommendationModel = AlumniRecommendationModel(open(\"df.pkl\",\"rb\"),open(\"dataDict.pkl\",\"rb\"),open(\"similarity.pkl\",\"rb\"))"
      ]
    },
    {
      "cell_type": "code",
      "execution_count": 5,
      "metadata": {
        "colab": {
          "base_uri": "https://localhost:8080/"
        },
        "id": "1nzxr3dFf7Oy",
        "outputId": "361cc8cd-2574-4a31-9cf3-a13a0a5ad287"
      },
      "outputs": [
        {
          "data": {
            "text/plain": [
              "[{'_id': '63f1e38f0666421fed18d222',\n",
              "  'certifications': [],\n",
              "  'education': ['InformationTechnology'],\n",
              "  'experiences': [],\n",
              "  'fullName': 'Siddhi Chavan',\n",
              "  'skills': ['Hindi',\n",
              "   'CascadingStyleSheets(CSS)',\n",
              "   'HTML5',\n",
              "   'ProblemSolving',\n",
              "   'Java',\n",
              "   'Python(ProgrammingLanguage)',\n",
              "   'MicrosoftExcel',\n",
              "   'English'],\n",
              "  'title': ['StudentatBhartiVidyapeethcollegeofengineering'],\n",
              "  'tags': 'informationtechnology hindi cascadingstylesheets(css) html5 problemsolving java python(programminglanguage) microsoftexcel english studentatbhartividyapeethcollegeofengineering'},\n",
              " {'_id': '63f1fbc8bef0afbb69a345e9',\n",
              "  'certifications': ['SalesforceCertifiedPlatformDeveloperI'],\n",
              "  'education': ['InformationTechnology'],\n",
              "  'experiences': ['TataConsultancyServices', 'AssistantSystemEngineer'],\n",
              "  'fullName': 'Durvankur Kadam',\n",
              "  'skills': ['Python(ProgrammingLanguage)',\n",
              "   'HTML',\n",
              "   'CascadingStyleSheets(CSS)',\n",
              "   'HTML5',\n",
              "   'Bootstrap',\n",
              "   'Django',\n",
              "   'React.js',\n",
              "   'JavaScript',\n",
              "   'Java',\n",
              "   'C(ProgrammingLanguage)',\n",
              "   'ProblemSolving',\n",
              "   'Communication',\n",
              "   'Leadership',\n",
              "   'English',\n",
              "   'Salesforce.comAdministration'],\n",
              "  'title': ['AssistantSystemEngineer|BE(IT)MumbaiUniversity'],\n",
              "  'tags': 'informationtechnology tataconsultancyservices assistantsystemengineer salesforcecertifiedplatformdeveloperi python(programminglanguage) html cascadingstylesheets(css) html5 bootstrap django react.js javascript java c(programminglanguage) problemsolving communication leadership english salesforce.comadministration assistantsystemengineer|be(it)mumbaiuniversity'},\n",
              " {'_id': '63f264a61460f9902e70ecac',\n",
              "  'certifications': [],\n",
              "  'education': ['InformationTechnology'],\n",
              "  'experiences': [],\n",
              "  'fullName': 'Neha Vilas Chogale',\n",
              "  'skills': ['Python(ProgrammingLanguage)',\n",
              "   'JavaScript',\n",
              "   'React.js',\n",
              "   'CascadingStyleSheets(CSS)',\n",
              "   'HTML5'],\n",
              "  'title': ['StudentatBhartiVidyapeethCollegeofEngineering,NaviMumbai'],\n",
              "  'tags': 'informationtechnology python(programminglanguage) javascript react.js cascadingstylesheets(css) html5 studentatbhartividyapeethcollegeofengineering,navimumbai'},\n",
              " {'_id': '63f2141d4d27ad4a7393f14f',\n",
              "  'certifications': ['GestureControlledRobot'],\n",
              "  'education': ['InformationTechnology'],\n",
              "  'experiences': ['ASCENTHEALTHANDWELLNESSSOLUTIONSPRIVATELIMITED(PharmEasy)',\n",
              "   'RPADeveloper'],\n",
              "  'fullName': 'Chinmayee Sawant',\n",
              "  'skills': ['Python(ProgrammingLanguage)',\n",
              "   'Java',\n",
              "   'HTML5',\n",
              "   'C(ProgrammingLanguage)',\n",
              "   'CascadingStyleSheets(CSS)',\n",
              "   'Bootstrap',\n",
              "   'SQL',\n",
              "   'c++'],\n",
              "  'title': ['PythonDeveloper|WebDeveloper|StudentatMumbaiUniversity'],\n",
              "  'tags': 'informationtechnology ascenthealthandwellnesssolutionsprivatelimited(pharmeasy) rpadeveloper gesturecontrolledrobot python(programminglanguage) java html5 c(programminglanguage) cascadingstylesheets(css) bootstrap sql c++ pythondeveloper|webdeveloper|studentatmumbaiuniversity'},\n",
              " {'_id': '63f226ef8d77e9e457495c30',\n",
              "  'certifications': [],\n",
              "  'education': ['Instrumentation'],\n",
              "  'experiences': [],\n",
              "  'fullName': 'SAYALI JUNGHARE',\n",
              "  'skills': ['SpringBoot',\n",
              "   'React.js',\n",
              "   'ProgrammingLanguages',\n",
              "   'Programming',\n",
              "   'HTML5',\n",
              "   'Java',\n",
              "   'ProblemSolving',\n",
              "   'HTML',\n",
              "   'CascadingStyleSheets(CSS)',\n",
              "   'JavaScript',\n",
              "   'Python(ProgrammingLanguage)'],\n",
              "  'title': ['StudentatBhartiCollegeofEngineeringandTechnology'],\n",
              "  'tags': 'instrumentation springboot react.js programminglanguages programming html5 java problemsolving html cascadingstylesheets(css) javascript python(programminglanguage) studentatbharticollegeofengineeringandtechnology'},\n",
              " {'_id': '63f229188d77e9e457495cb4',\n",
              "  'certifications': [],\n",
              "  'education': ['InformationTechnology'],\n",
              "  'experiences': ['-', 'InformationTechnologyStudent'],\n",
              "  'fullName': 'Aman Chouhan',\n",
              "  'skills': ['Python(ProgrammingLanguage)',\n",
              "   'C++',\n",
              "   'Java',\n",
              "   'Engineering',\n",
              "   'AnalyticalSkills',\n",
              "   'MicrosoftExcel',\n",
              "   'Leadership',\n",
              "   'ProblemSolving'],\n",
              "  'title': ['Java||WebDesigner||KaliLinux'],\n",
              "  'tags': 'informationtechnology - informationtechnologystudent python(programminglanguage) c++ java engineering analyticalskills microsoftexcel leadership problemsolving java||webdesigner||kalilinux'}]"
            ]
          },
          "execution_count": 5,
          "metadata": {},
          "output_type": "execute_result"
        }
      ],
      "source": [
        "alumniRecommendationModel.recommendProfileById(\"63f1e38f0666421fed18d222\")"
      ]
    },
    {
      "cell_type": "code",
      "execution_count": null,
      "metadata": {
        "id": "U9mUNAgTf9Uy"
      },
      "outputs": [],
      "source": []
    }
  ],
  "metadata": {
    "colab": {
      "authorship_tag": "ABX9TyNb5OaweaOl9c3v4VCuj4nQ",
      "provenance": []
    },
    "kernelspec": {
      "display_name": "Python 3",
      "language": "python",
      "name": "python3"
    },
    "language_info": {
      "codemirror_mode": {
        "name": "ipython",
        "version": 3
      },
      "file_extension": ".py",
      "mimetype": "text/x-python",
      "name": "python",
      "nbconvert_exporter": "python",
      "pygments_lexer": "ipython3",
      "version": "3.10.8"
    },
    "vscode": {
      "interpreter": {
        "hash": "e7370f93d1d0cde622a1f8e1c04877d8463912d04d973331ad4851f04de6915a"
      }
    }
  },
  "nbformat": 4,
  "nbformat_minor": 0
}
